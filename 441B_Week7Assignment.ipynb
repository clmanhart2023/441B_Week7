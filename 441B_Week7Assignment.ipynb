{
  "cells": [
    {
      "cell_type": "markdown",
      "metadata": {
        "id": "56gfssRVWSjf"
      },
      "source": [
        "# ECON 441B: Week 7 Assignment\n",
        "Courtney Manhart"
      ]
    },
    {
      "cell_type": "markdown",
      "metadata": {
        "id": "6dJuZDx9qWeM"
      },
      "source": [
        "# 1.) Import an asset price from Yahoo Finance"
      ]
    },
    {
      "cell_type": "code",
      "source": [
        "pip install yfinance"
      ],
      "metadata": {
        "colab": {
          "base_uri": "https://localhost:8080/"
        },
        "id": "v8k9XFnI0R23",
        "outputId": "4875a662-811c-4706-e637-2874e7bd30f8"
      },
      "execution_count": 10,
      "outputs": [
        {
          "output_type": "stream",
          "name": "stdout",
          "text": [
            "Looking in indexes: https://pypi.org/simple, https://us-python.pkg.dev/colab-wheels/public/simple/\n",
            "Requirement already satisfied: yfinance in /usr/local/lib/python3.8/dist-packages (0.2.12)\n",
            "Requirement already satisfied: pandas>=1.3.0 in /usr/local/lib/python3.8/dist-packages (from yfinance) (1.3.5)\n",
            "Requirement already satisfied: beautifulsoup4>=4.11.1 in /usr/local/lib/python3.8/dist-packages (from yfinance) (4.11.2)\n",
            "Requirement already satisfied: pytz>=2022.5 in /usr/local/lib/python3.8/dist-packages (from yfinance) (2022.7.1)\n",
            "Requirement already satisfied: lxml>=4.9.1 in /usr/local/lib/python3.8/dist-packages (from yfinance) (4.9.2)\n",
            "Requirement already satisfied: appdirs>=1.4.4 in /usr/local/lib/python3.8/dist-packages (from yfinance) (1.4.4)\n",
            "Requirement already satisfied: numpy>=1.16.5 in /usr/local/lib/python3.8/dist-packages (from yfinance) (1.22.4)\n",
            "Requirement already satisfied: requests>=2.26 in /usr/local/lib/python3.8/dist-packages (from yfinance) (2.28.2)\n",
            "Requirement already satisfied: cryptography>=3.3.2 in /usr/local/lib/python3.8/dist-packages (from yfinance) (39.0.1)\n",
            "Requirement already satisfied: html5lib>=1.1 in /usr/local/lib/python3.8/dist-packages (from yfinance) (1.1)\n",
            "Requirement already satisfied: frozendict>=2.3.4 in /usr/local/lib/python3.8/dist-packages (from yfinance) (2.3.5)\n",
            "Requirement already satisfied: multitasking>=0.0.7 in /usr/local/lib/python3.8/dist-packages (from yfinance) (0.0.11)\n",
            "Requirement already satisfied: soupsieve>1.2 in /usr/local/lib/python3.8/dist-packages (from beautifulsoup4>=4.11.1->yfinance) (2.4)\n",
            "Requirement already satisfied: cffi>=1.12 in /usr/local/lib/python3.8/dist-packages (from cryptography>=3.3.2->yfinance) (1.15.1)\n",
            "Requirement already satisfied: six>=1.9 in /usr/local/lib/python3.8/dist-packages (from html5lib>=1.1->yfinance) (1.15.0)\n",
            "Requirement already satisfied: webencodings in /usr/local/lib/python3.8/dist-packages (from html5lib>=1.1->yfinance) (0.5.1)\n",
            "Requirement already satisfied: python-dateutil>=2.7.3 in /usr/local/lib/python3.8/dist-packages (from pandas>=1.3.0->yfinance) (2.8.2)\n",
            "Requirement already satisfied: urllib3<1.27,>=1.21.1 in /usr/local/lib/python3.8/dist-packages (from requests>=2.26->yfinance) (1.24.3)\n",
            "Requirement already satisfied: certifi>=2017.4.17 in /usr/local/lib/python3.8/dist-packages (from requests>=2.26->yfinance) (2022.12.7)\n",
            "Requirement already satisfied: idna<4,>=2.5 in /usr/local/lib/python3.8/dist-packages (from requests>=2.26->yfinance) (2.10)\n",
            "Requirement already satisfied: charset-normalizer<4,>=2 in /usr/local/lib/python3.8/dist-packages (from requests>=2.26->yfinance) (3.0.1)\n",
            "Requirement already satisfied: pycparser in /usr/local/lib/python3.8/dist-packages (from cffi>=1.12->cryptography>=3.3.2->yfinance) (2.21)\n"
          ]
        }
      ]
    },
    {
      "cell_type": "code",
      "execution_count": 11,
      "metadata": {
        "colab": {
          "base_uri": "https://localhost:8080/"
        },
        "id": "Y3bcwJb4rp93",
        "outputId": "18a8f852-4635-47b4-98bd-3ae1cac10ff4"
      },
      "outputs": [
        {
          "output_type": "stream",
          "name": "stdout",
          "text": [
            "\r[*********************100%***********************]  1 of 1 completed\n"
          ]
        }
      ],
      "source": [
        "import yfinance as yf\n",
        "import numpy as np\n",
        "import pandas as pd\n",
        "from sklearn.preprocessing import MinMaxScaler\n",
        "from tensorflow.keras.models import Sequential\n",
        "from tensorflow.keras.layers import Dense, LSTM, Dropout\n",
        "from tensorflow.keras.metrics import BinaryAccuracy\n",
        "\n",
        "\n",
        "########################################\n",
        "####Pick your ticker and time period####\n",
        "########################################\n",
        "stock_data = yf.download(\"DIS\", start=\"1990-01-01\", end=\"2022-02-21\")\n",
        "  # Picking the Disney Company Ticker \n",
        "\n",
        "\n",
        "# Preprocess data\n",
        "scaled_data = np.array(stock_data[\"Close\"].pct_change().dropna()).reshape(-1,1)\n",
        "\n",
        "\n",
        "# Split data into training and test sets\n",
        "training_data_len = int(len(scaled_data) * 0.8)\n",
        "train_data = scaled_data[0:training_data_len, :]\n",
        "\n"
      ]
    },
    {
      "cell_type": "markdown",
      "metadata": {
        "id": "foHoGy9hq3_o"
      },
      "source": [
        "# 2.) Create your x_train/y_train data so that your RNN uses percentage change data to make a binary forecast where the stock moves up or down the next day\n",
        "# Build an RNN Architecture accordingly"
      ]
    },
    {
      "cell_type": "code",
      "execution_count": 12,
      "metadata": {
        "colab": {
          "base_uri": "https://localhost:8080/"
        },
        "id": "5qGFB5HfqcVd",
        "outputId": "99afdf24-6a97-4fa2-acff-5a84db0489f4"
      },
      "outputs": [
        {
          "output_type": "stream",
          "name": "stdout",
          "text": [
            "Epoch 1/3\n",
            "6472/6472 [==============================] - 62s 8ms/step - loss: 0.6933 - accuracy: 0.5170\n",
            "Epoch 2/3\n",
            "6472/6472 [==============================] - 52s 8ms/step - loss: 0.6928 - accuracy: 0.5210\n",
            "Epoch 3/3\n",
            "6472/6472 [==============================] - 50s 8ms/step - loss: 0.6926 - accuracy: 0.5219\n"
          ]
        },
        {
          "output_type": "execute_result",
          "data": {
            "text/plain": [
              "<keras.callbacks.History at 0x7fe12c2cce20>"
            ]
          },
          "metadata": {},
          "execution_count": 12
        }
      ],
      "source": [
        "x_train = []\n",
        "y_train = []\n",
        "\n",
        "\n",
        "#############################################################\n",
        "####Pick your input size and edit to make binary forecast####\n",
        "#############################################################\n",
        "input_size = 5 ## number of time Lags -- using the last 5 days to predict the next \n",
        "for i in range(input_size, len(train_data)):\n",
        "    x_train.append(train_data[i-input_size:i, 0])\n",
        "\n",
        "    ## Need to Fix y-train to be going up/down (binary)\n",
        "      # if y_train > 0 --> 1\n",
        "      # Elif y_train < 0 --> 0 \n",
        "    if train_data[i,0] >= 0:\n",
        "      y_train.append(1)\n",
        "    elif train_data[i, 0] < 0:\n",
        "      y_train.append(0)\n",
        "\n",
        "\n",
        "x_train, y_train = np.array(x_train), np.array(y_train)\n",
        "x_train = np.reshape(x_train, (x_train.shape[0], x_train.shape[1], 1))\n",
        "\n",
        "\n",
        "###################################\n",
        "####Build Your RNN Architecture####\n",
        "###################################\n",
        "model = Sequential()\n",
        "model.add(LSTM(x_train.shape[1], return_sequences=True, \n",
        "               input_shape=(x_train.shape[1], 1)))\n",
        "model.add(LSTM(50, return_sequences=False))\n",
        "model.add(Dense(25))\n",
        "\n",
        "## Classification: Pick Activation Function \n",
        "model.add(Dense(1, activation = 'sigmoid')) # Output layer \n",
        "  # Sigmoid will give % that we will need to convert to 0/1\n",
        "\n",
        "\n",
        "\n",
        "model.compile(loss='binary_crossentropy', optimizer='adam', metrics=['accuracy'])\n",
        "model.fit(x_train, y_train, batch_size=1, epochs=3)"
      ]
    },
    {
      "cell_type": "markdown",
      "metadata": {
        "id": "yFhO9vMjsWPk"
      },
      "source": [
        "# 3.) Test your model and compare insample Accurracy, insample random walk assumption Accuracy, Out of sample Accuracy and out of sample random walk assumption Accuracy using a bar chart"
      ]
    },
    {
      "cell_type": "code",
      "execution_count": 13,
      "metadata": {
        "colab": {
          "base_uri": "https://localhost:8080/"
        },
        "id": "r1Xj6Ji-rwnM",
        "outputId": "57ef0c6e-e404-44ad-d904-6a30053187d5"
      },
      "outputs": [
        {
          "output_type": "stream",
          "name": "stdout",
          "text": [
            "51/51 [==============================] - 1s 4ms/step\n"
          ]
        }
      ],
      "source": [
        "\n",
        "test_data = scaled_data[training_data_len - input_size:, :]\n",
        "\n",
        "x_test = []\n",
        "y_test_data = np.array(stock_data[[\"Close\"]].pct_change().dropna())[training_data_len:, :]\n",
        "y_test = []\n",
        "for i in range(len(y_test_data)):\n",
        "  if y_test_data[i] >= 0:\n",
        "    y_test.append(1)\n",
        "  elif y_test_data[i] < 0:\n",
        "    y_test.append(0)\n",
        "\n",
        "\n",
        "for i in range(input_size, len(test_data)):\n",
        "    x_test.append(test_data[i-input_size:i, 0])\n",
        "\n",
        "x_test = np.array(x_test)\n",
        "x_test = np.reshape(x_test, (x_test.shape[0], x_test.shape[1], 1))\n",
        "\n",
        "\n",
        "\n",
        "predictions = model.predict(x_test)\n",
        "\n"
      ]
    },
    {
      "cell_type": "code",
      "execution_count": 14,
      "metadata": {
        "colab": {
          "base_uri": "https://localhost:8080/"
        },
        "id": "Mvo2INihZMhk",
        "outputId": "bf886a1c-ff18-4cce-ec40-eb05b73b4c33"
      },
      "outputs": [
        {
          "output_type": "stream",
          "name": "stdout",
          "text": [
            "In Sample Random Walk Auccuracy: 0.49528666357595424\n",
            "Out of Sample Random Walk Auccuracy: 0.4793082149474985\n"
          ]
        }
      ],
      "source": [
        "## IN sample Random Walk Model\n",
        "actual_train = y_train[1:] #Actual\n",
        "pred_train = y_train[:-1] #predicted\n",
        "\n",
        "num = 0\n",
        "for i in range(len(actual_train)):\n",
        "  if actual_train[i] == pred_train[i]:\n",
        "    num += 1\n",
        "\n",
        "in_RW_auc = num / len(actual_train)\n",
        "\n",
        "print('In Sample Random Walk Auccuracy:', in_RW_auc)\n",
        "\n",
        "# OOS Random Walk Model\n",
        "actual_test = y_test[1:] #Actual\n",
        "pred_test = y_test[:-1] #predicted\n",
        "\n",
        "num = 0\n",
        "for i in range(len(actual_test)):\n",
        "  if actual_test[i] == pred_test[i]:\n",
        "    num += 1\n",
        "\n",
        "out_RW_auc = num / len(actual_test)\n",
        "print('Out of Sample Random Walk Auccuracy:', out_RW_auc)\n"
      ]
    },
    {
      "cell_type": "code",
      "execution_count": 15,
      "metadata": {
        "colab": {
          "base_uri": "https://localhost:8080/"
        },
        "id": "35O_7b3iX1cX",
        "outputId": "1f351b89-28c8-4713-ae84-a55480cf5d1f"
      },
      "outputs": [
        {
          "output_type": "stream",
          "name": "stdout",
          "text": [
            "203/203 [==============================] - 1s 4ms/step\n",
            "In Sample Model Accuracy: 0.5227132262051916\n",
            "Out Sample Model Accuracy: 0.5049382716049383\n"
          ]
        }
      ],
      "source": [
        "## In Sample Model Accuracy\n",
        "y_predictions = model.predict(x_train) \n",
        "num = 0\n",
        "for i in range(len(y_predictions)):\n",
        "  if y_predictions[i] >= 0.5 and y_train[i] == 1:\n",
        "    num += 1\n",
        "  elif y_predictions[i] < 0.5 and y_train[i] == 0:\n",
        "    num += 1\n",
        "in_mod_auc = num/ len(y_train)\n",
        "\n",
        "print('In Sample Model Accuracy:', in_mod_auc)\n",
        "\n",
        "\n",
        "## OOS Model Accuracy\n",
        "num = 0\n",
        "for i in range(len(predictions)):\n",
        "  if predictions[i] >= 0.5 and y_test[i] == 1:\n",
        "    num += 1\n",
        "  elif predictions[i] < 0.5 and y_test[i] == 0:\n",
        "    num += 1\n",
        "out_mod_auc = num/ len(y_test)\n",
        "\n",
        "print('Out Sample Model Accuracy:', out_mod_auc)"
      ]
    },
    {
      "cell_type": "code",
      "execution_count": 16,
      "metadata": {
        "colab": {
          "base_uri": "https://localhost:8080/",
          "height": 280
        },
        "id": "ZP_GJ8X-Wkln",
        "outputId": "3a530de5-5fde-4279-a0a5-07b45498a3c2"
      },
      "outputs": [
        {
          "output_type": "display_data",
          "data": {
            "text/plain": [
              "<Figure size 432x288 with 1 Axes>"
            ],
            "image/png": "[encoded data removed]"
          },
          "metadata": {
            "needs_background": "light"
          }
        }
      ],
      "source": [
        "## Creating Bar Chart\n",
        "\n",
        "import matplotlib.pyplot as plt\n",
        "\n",
        "plt.bar(['In RW', 'Out RW', 'In Model', 'Out Model'],\n",
        "        height = [in_RW_auc, out_RW_auc, in_mod_auc, out_mod_auc], width = 0.8)\n",
        "plt.ylabel('Accuracy')\n",
        "plt.title(\"MSE for In Sample & Out of Sample for Random Walk and Model\")\n",
        "plt.show()"
      ]
    },
    {
      "cell_type": "markdown",
      "metadata": {
        "id": "8bncNwh8tKiE"
      },
      "source": [
        "# 4.) Plot in and out of sample accuracy --- DO NOT NEED TO DO\n"
      ]
    },
    {
      "cell_type": "code",
      "execution_count": null,
      "metadata": {
        "id": "d698mdExtfHp"
      },
      "outputs": [],
      "source": [
        "import matplotlib.pyplot as plt\n",
        "\n",
        "# Make predictions on full dataset\n",
        "\n",
        "test_predict = model.predict(x_test)\n",
        "test_predictions = (test_predict+1).reshape(1,-1) * np.cumprod(y_test+1)\n",
        "\n",
        "train_predict = model.predict(x_train)\n",
        "train_predictions = (train_predict+1).reshape(1,-1) * np.cumprod(y_train+1)\n",
        "\n",
        "\n",
        "\n",
        "plt.plot(stock_data[:training_data_len- input_size].index, np.cumprod(y_train+1), label=\"Training Data\")\n",
        "plt.plot(stock_data[:training_data_len- input_size].index, train_predictions[0], label=\"Training Predictions\")\n",
        "end_val = np.cumprod(y_train+1)[-1]\n",
        "test_predict = model.predict(x_test)\n",
        "test_predictions = (test_predict+1).reshape(1,-1) * (np.cumprod((y_test+1))*end_val)\n",
        "plt.plot(stock_data[training_data_len+1:].index, np.cumprod((y_test+1))*end_val,label=\"Test Data\")\n",
        "plt.plot(stock_data[training_data_len+1:].index, test_predictions[0], label=\"Test Predictions\")\n",
        "plt.xlabel(\"Date\")\n",
        "plt.ylabel(\"Stock Price\")\n",
        "plt.legend()\n",
        "plt.show()"
      ]
    },
    {
      "cell_type": "code",
      "execution_count": null,
      "metadata": {
        "id": "jVPe8djTn1_2"
      },
      "outputs": [],
      "source": []
    },
    {
      "cell_type": "code",
      "execution_count": null,
      "metadata": {
        "id": "QCY8DfMEtUln"
      },
      "outputs": [],
      "source": []
    },
    {
      "cell_type": "markdown",
      "metadata": {
        "id": "bK_jyyEEtTUB"
      },
      "source": [
        "#5.) Write an observation/conclusion about the graphs from Q4 and Q3"
      ]
    },
    {
      "cell_type": "markdown",
      "metadata": {
        "id": "VVEDYtzFlF2c"
      },
      "source": [
        "Based on our observations from the graph in Q3, our model has a smaller MSE for both the in-sample and out of sample. "
      ]
    },
    {
      "cell_type": "code",
      "execution_count": null,
      "metadata": {
        "id": "IgIEHP6xlFpS"
      },
      "outputs": [],
      "source": []
    },
    {
      "cell_type": "code",
      "execution_count": null,
      "metadata": {
        "id": "N5fbjajz-YCF"
      },
      "outputs": [],
      "source": []
    },
    {
      "cell_type": "code",
      "execution_count": null,
      "metadata": {
        "id": "JKaNjoQlBPbr"
      },
      "outputs": [],
      "source": []
    },
    {
      "cell_type": "markdown",
      "metadata": {
        "id": "pFtrp-lmtw6t"
      },
      "source": [
        "# 6.) Create a parameter for number of lags in your input layer. Do a 3-fold CV to test three different time lags. i.e. Tested using 5,10,20 days of previous price data to forecast"
      ]
    },
    {
      "cell_type": "code",
      "execution_count": 18,
      "metadata": {
        "colab": {
          "base_uri": "https://localhost:8080/"
        },
        "id": "kEOQ6TO0-Fnw",
        "outputId": "68f3ea03-9f32-4a20-b266-a97dfac3ac02"
      },
      "outputs": [
        {
          "output_type": "stream",
          "name": "stderr",
          "text": [
            "<ipython-input-18-fd42873be6c8>:42: DeprecationWarning: KerasClassifier is deprecated, use Sci-Keras (https://github.com/adriangb/scikeras) instead. See https://www.adriangb.com/scikeras/stable/migration.html for help migrating.\n",
            "  model = KerasClassifier(build_fn=create_model, verbose=0)\n",
            "/usr/local/lib/python3.8/dist-packages/joblib/externals/loky/process_executor.py:700: UserWarning: A worker stopped while some jobs were given to the executor. This can be caused by a too short worker timeout or by a memory leak.\n",
            "  warnings.warn(\n",
            "WARNING:tensorflow:Model was constructed with shape (None, 5, 1) for input KerasTensor(type_spec=TensorSpec(shape=(None, 5, 1), dtype=tf.float32, name='lstm_4_input'), name='lstm_4_input', description=\"created by layer 'lstm_4_input'\"), but it was called on an input with incompatible shape (None, 1, 1).\n",
            "WARNING:tensorflow:Model was constructed with shape (None, 5, 1) for input KerasTensor(type_spec=TensorSpec(shape=(None, 5, 1), dtype=tf.float32, name='lstm_4_input'), name='lstm_4_input', description=\"created by layer 'lstm_4_input'\"), but it was called on an input with incompatible shape (None, 1, 1).\n"
          ]
        },
        {
          "output_type": "stream",
          "name": "stdout",
          "text": [
            "Best: 0.000000 using {'numInputs': 5}\n"
          ]
        }
      ],
      "source": [
        "from sklearn.model_selection import GridSearchCV\n",
        "from keras.wrappers.scikit_learn import KerasClassifier\n",
        "from keras.wrappers.scikit_learn import KerasRegressor\n",
        "\n",
        "# Define the Keras model\n",
        "###Edit here to create your optimizer\n",
        "def create_model(numInputs): ## Add a Parameter that will change # of inputs (structure of Q1 needs to be in here)\n",
        "  input_size = numInputs ## number of time Lags -- using the last 5 days to predict the next \n",
        "  x_train = []\n",
        "  y_train = []\n",
        "  for i in range(input_size, len(train_data)):\n",
        "      x_train.append(train_data[i-input_size:i, 0])\n",
        "\n",
        "      ## Need to Fix y-train to be going up/down (binary)\n",
        "        # if y_train > 0 --> 1\n",
        "        # Elif y_train < 0 --> 0 \n",
        "      if train_data[i,0] >= 0:\n",
        "        y_train.append(1)\n",
        "      elif train_data[i, 0] < 0:\n",
        "        y_train.append(0)\n",
        "\n",
        "\n",
        "  x_train, y_train = np.array(x_train), np.array(y_train)\n",
        "  x_train = np.reshape(x_train, (x_train.shape[0], x_train.shape[1], 1))\n",
        "\n",
        "\n",
        "  model = Sequential()\n",
        "  model.add(LSTM(x_train.shape[1], return_sequences=True, \n",
        "                input_shape=(x_train.shape[1], 1)))\n",
        "  model.add(LSTM(50, return_sequences=False))\n",
        "  model.add(Dense(25))\n",
        "\n",
        "  ## Classification: Pick Activation Function \n",
        "  model.add(Dense(1, activation = 'sigmoid')) # Output layer \n",
        "    # Sigmoid will give % that we will need to convert to 0/1\n",
        "\n",
        "\n",
        "  model.compile(loss='binary_crossentropy', optimizer='adam', metrics=['accuracy'])\n",
        "  return(model)\n",
        "\n",
        "# Wrap the Keras model in a scikit-learn compatible estimator\n",
        "model = KerasClassifier(build_fn=create_model, verbose=0)\n",
        "\n",
        "# Define the hyperparameters to search over\n",
        "param_grid = {'numInputs': [5, 10, 20]}\n",
        "\n",
        "# Perform the grid search over the hyperparameters\n",
        "\n",
        "grid = GridSearchCV(estimator=model, param_grid=param_grid, n_jobs=-1, cv=3)\n",
        "grid_result = grid.fit(train_data, train_data)\n",
        "\n",
        "# Print the results\n",
        "print(\"Best: %f using %s\" % (grid_result.best_score_, grid_result.best_params_))"
      ]
    }
  ],
  "metadata": {
    "colab": {
      "provenance": []
    },
    "kernelspec": {
      "display_name": "Python 3",
      "name": "python3"
    },
    "language_info": {
      "name": "python"
    }
  },
  "nbformat": 4,
  "nbformat_minor": 0
}